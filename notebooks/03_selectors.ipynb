{
 "cells": [
  {
   "cell_type": "markdown",
   "metadata": {},
   "source": [
    "## Selectors\n",
    "\n",
    "### Selecting with .loc and .iloc\n",
    "\n",
    "Aside from using double brackets `[][]` to access values, DataFrame provides `.loc[]` and `'iloc[]` mthods to select values with row labels (index) or position respectively.\n",
    "\n",
    "Here's some examples of using `.loc()`"
   ]
  },
  {
   "cell_type": "code",
   "execution_count": null,
   "metadata": {},
   "outputs": [],
   "source": [
    "import pandas as pd\n",
    "\n",
    "# read data fom csv\n",
    "flights = pd.read_csv('../data/flights.csv', header=0)\n",
    "\n",
    "# select single row by index\n",
    "flights.loc[0]\n",
    "\n",
    "# select multiple rows with slices\n",
    "flights.loc[[0, 5, 7, 10]]\n",
    "flights.loc[0:3]\n",
    "\n",
    "# select multiple rows and columns by index\n",
    "flights.loc[0:3,['airline', 'src', 'dest']]"
   ]
  },
  {
   "cell_type": "markdown",
   "metadata": {},
   "source": [
    ":::info `.loc[[rows],[columns]]`\n",
    "\n",
    "Using `.loc` the first bracket selects rows and the second bracket select column. This is the reverse order of using double brackets.\n",
    "\n",
    ":::\n",
    "\n",
    "`.iloc[]` works the same way, but instead of labels (index) you can select by row and colunm position numbers. In this case, since our flight records have a RangeIndex the row indexes are the **same** as labels:"
   ]
  },
  {
   "cell_type": "code",
   "execution_count": null,
   "metadata": {},
   "outputs": [],
   "source": [
    "# select first row\n",
    "flights.iloc[0]\n",
    "\n",
    "# select multiple rows with slices\n",
    "flights.iloc[[0, 5, 7, 10]]\n",
    "flights.iloc[0:3]\n",
    "\n",
    "# select multiple rows and columns by position\n",
    "flights.iloc[0:3,[0, 2, 4]]"
   ]
  },
  {
   "cell_type": "markdown",
   "metadata": {},
   "source": [
    ":::info Mixing `.loc` and `iloc`\n",
    "\n",
    "You can always mix using `.loc` and `iloc` together:\n",
    "\n",
    ":::\n"
   ]
  },
  {
   "cell_type": "code",
   "execution_count": null,
   "metadata": {},
   "outputs": [],
   "source": [
    "# mixing loc and iloc\n",
    "# select rows 5-10 and few columns\n",
    "flights.iloc[5:10].loc[:, ['flight_number', 'src', 'dest']]"
   ]
  },
  {
   "cell_type": "markdown",
   "metadata": {},
   "source": [
    "### Conditional Selections\n",
    "\n",
    "You can specify criterias for selecting values within the Dataframe:"
   ]
  },
  {
   "cell_type": "code",
   "execution_count": null,
   "metadata": {},
   "outputs": [],
   "source": [
    "# select delta airline flights\n",
    "flights.loc[flights.airline == 'DL']\n",
    "# same as above\n",
    "flights.loc[flights['airline'] == 'DL']\n",
    "\n",
    "# flights where distance is not null\n",
    "flights.loc[flights.distance.notna()]\n",
    "# or where distance is null\n",
    "flights.loc[flights.distance.isna()]\n",
    "\n",
    "# select flights out of PDX over 500 miles\n",
    "flights.loc[(flights.src == 'PDX') & (flights.distance > 500.0)]\n",
    "\n",
    "# apply multiple conditions::\n",
    "# select delta or alaska flights\n",
    "flights.loc[(flights.airline == 'DL') | (flights.airline == 'AS')]\n",
    "# select delta airlines flights from LAX-JFK\n",
    "flights.loc[(flights.airline == 'DL') & (flights.src == 'LAX') & (flights.dest == 'JFK')]\n",
    "\n",
    "# select delta and alaska flights from LAX-JSK\n",
    "a = flights.loc[(flights.airline.isin(['DL', 'AS'])) & \n",
    "            (flights.src == 'LAX') & (flights.dest == 'JFK')]\n",
    "\n",
    "with pd.option_context('display.max_rows', None, 'display.max_columns', None, 'display.max_colwidth', 500, 'display.width', 500):\n",
    "    print(a)"
   ]
  },
  {
   "cell_type": "markdown",
   "metadata": {},
   "source": [
    ":::tip Handy selection methods\n",
    "\n",
    "Pandas has special selections method for almsot everything. Remember them and use the rigolously. Methods such as `.isin()`, `.isna()`, and `.notna()`. See examples above.\n",
    "\n",
    ":::\n",
    "\n",
    "### Using query() method\n",
    "\n",
    "If you are more familiar with SQL syntax, you can use the pandas `.query()` method:\n"
   ]
  },
  {
   "cell_type": "code",
   "execution_count": null,
   "metadata": {},
   "outputs": [],
   "source": [
    "# select flights from PDX over 500 miles\n",
    "flights.query(\"(src == 'PDX') & (distance > 500.0)\")"
   ]
  },
  {
   "cell_type": "markdown",
   "metadata": {},
   "source": [
    "### Subselections\n",
    "\n",
    "You can always save a selection and further subselect within a set by assigning your selections into a variable:"
   ]
  },
  {
   "cell_type": "code",
   "execution_count": null,
   "metadata": {},
   "outputs": [],
   "source": [
    "# select flights from PDX\n",
    "pdx_flights = flights.loc[flights.src == 'PDX']\n",
    "# find long distance flights\n",
    "pdx_long_distance = pdx_flights.query(\"distance > 500.0\")\n",
    "pdx_long_distance"
   ]
  }
 ],
 "metadata": {
  "kernelspec": {
   "display_name": "Python 3",
   "language": "python",
   "name": "python3"
  },
  "language_info": {
   "codemirror_mode": {
    "name": "ipython",
    "version": 3
   },
   "file_extension": ".py",
   "mimetype": "text/x-python",
   "name": "python",
   "nbconvert_exporter": "python",
   "pygments_lexer": "ipython3",
   "version": "3.7.9"
  }
 },
 "nbformat": 4,
 "nbformat_minor": 4
}
